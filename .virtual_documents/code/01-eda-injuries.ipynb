


import pandas as pd
import numpy as np
import matplotlib.pyplot as plt     # data visualization library
import seaborn as sns     # prettier data visualization library than matplotlib
from io import BytesIO     # From https://www.geeksforgeeks.org/stringio-and-bytesio-for-managing-data-as-file-object/#
import requests     # simple https library for python https://www.geeksforgeeks.org/python-requests-tutorial/
from datetime import datetime     # https://www.geeksforgeeks.org/python-datetime-module/
import re     # RegEx or Regular Expression library





# Load the data of fatal crashes.
df = pd.read_csv('data/Traffic_Crashes_Resulting_in_Fatality_20250411.csv')
df.head()



