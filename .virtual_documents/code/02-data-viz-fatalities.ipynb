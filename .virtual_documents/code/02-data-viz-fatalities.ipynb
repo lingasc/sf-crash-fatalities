


import pandas as pd
import numpy as np
import matplotlib.pyplot as plt     # data visualization library
import seaborn as sns     # prettier data visualization library than matplotlib
from io import BytesIO     # From https://www.geeksforgeeks.org/stringio-and-bytesio-for-managing-data-as-file-object/#
import requests     # simple https library for python https://www.geeksforgeeks.org/python-requests-tutorial/
from datetime import datetime     # https://www.geeksforgeeks.org/python-datetime-module/
import re     # RegEx or Regular Expression library


# Set the style for plots
plt.style.use('seaborn-v0_8-whitegrid')
sns.set_palette("deep")


# Load the data of fatal crashes.
df = pd.read_csv('/data/cleaned_fatalities.csv')
df.head()


# Visualization 1: Collision Types by Year
plt.figure(figsize=(12, 6))
collision_by_year = df.groupby(['collision_year', 'collision_category']).size().unstack().fillna(0)
collision_by_year.plot(kind='bar', stacked=True)
plt.title('Fatal Collisions by Type and Year', fontsize=14)
plt.xlabel('Year', fontsize=12)
plt.ylabel('Number of Fatal Collisions', fontsize=12)
plt.xticks(rotation=45)
plt.legend(title='Collision Type')
plt.tight_layout()
plt.figtext(0.5, 0.01, 'Source: SF Traffic Fatality Data', ha='center', fontsize=8)



