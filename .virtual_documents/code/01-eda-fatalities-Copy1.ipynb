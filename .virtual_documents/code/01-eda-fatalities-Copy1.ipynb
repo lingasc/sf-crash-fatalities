


import pandas as pd
import numpy as np
import matplotlib.pyplot as plt     # data visualization library
import seaborn as sns     # prettier data visualization library than matplotlib
from io import BytesIO     # From https://www.geeksforgeeks.org/stringio-and-bytesio-for-managing-data-as-file-object/#
import requests     # simple https library for python https://www.geeksforgeeks.org/python-requests-tutorial/
from datetime import datetime     # https://www.geeksforgeeks.org/python-datetime-module/
import re     # RegEx or Regular Expression library


# Set the style for plots
plt.style.use('seaborn-v0_8-whitegrid')
sns.set_palette("deep")


# Load the data of fatal crashes.
df = pd.read_csv('data/Traffic_Crashes_Resulting_in_Fatality_20250411.csv')
df.head()


# 1. Analyze the dataset structure
print("Dataset Shape:", df.shape)
print("\nData Types:")
print(df.dtypes)


# Check for missing values
missing_values = df.isnull().sum()
missing_percent = (missing_values / len(df)) * 100
missing_data = pd.DataFrame({
    'Missing Values': missing_values,
    'Percentage': missing_percent
})
print("\nMissing Values Analysis:")
print(missing_data[missing_data['Missing Values'] > 0].sort_values('Missing Values', ascending=False))


# Check for duplicates
duplicate_rows = df.duplicated().sum()
print(f"\nNumber of duplicate rows: {duplicate_rows}")

# Check for inconsistencies in date/time formats
print("\nDate/Time Format Examples:")
for col in ['death_date', 'death_time', 'death_datetime', 'collision_date', 'collision_time', 'collision_datetime']:
    print(f"{col}: {df[col].dropna().iloc[0]}")


# 2. Clean the data
# Make a copy of the original dataframe for comparison
df_original = df.copy()

# Function to safely convert date strings to datetime
def safe_parse_date(date_str, format_str):
    if pd.isna(date_str):
        return pd.NaT
    try:
        return pd.to_datetime(date_str, format=format_str)
    except:
        return pd.NaT

# Function to safely convert time strings to time objects
def safe_parse_time(time_str, format_str):
    if pd.isna(time_str):
        return pd.NaT
    try:
        return pd.to_datetime(time_str, format=format_str).time()
    except:
        return pd.NaT


# 1. Clean date columns with explicit formats
df['death_date'] = df['death_date'].apply(lambda x: safe_parse_date(x, '%Y/%m/%d'))
df['collision_date'] = df['collision_date'].apply(lambda x: safe_parse_date(x, '%Y/%m/%d'))
df['data_as_of'] = df['data_as_of'].apply(lambda x: safe_parse_date(x, '%Y/%m/%d %H:%M:%S %p'))
df['data_loaded_at'] = df['data_loaded_at'].apply(lambda x: safe_parse_date(x, '%Y/%m/%d %H:%M:%S %p'))

# 2. Clean time columns
# First convert to datetime, then extract time component
for col in ['death_time', 'collision_time']:
    df[col] = df[col].apply(lambda x: safe_parse_time(x, '%H:%M:%S') if pd.notna(x) else pd.NaT)

# 3. Clean datetime columns with explicit formats
for col in ['death_datetime', 'collision_datetime']:
    df[col] = df[col].apply(lambda x: safe_parse_date(x, '%Y/%m/%d %H:%M:%S %p'))

# 4. Create age categories for better analysis
age_bins = [0, 18, 35, 65, 100]
age_labels = ['Child (0-17)', 'Young Adult (18-34)', 'Adult (35-64)', 'Senior (65+)']
df['age_category'] = pd.cut(df['age'], bins=age_bins, labels=age_labels, right=False)

# 5. Create a more meaningful collision type category
# Simplify collision types into broader categories
def simplify_collision_type(collision_type):
    if pd.isna(collision_type):
        return 'Unknown'
    elif 'Pedestrian' in collision_type:
        return 'Pedestrian'
    elif 'Bicycle' in collision_type:
        return 'Bicycle'
    elif 'Motorcycle' in collision_type:
        return 'Motorcycle'
    else:
        return 'Vehicle'

df['collision_category'] = df['collision_type'].apply(simplify_collision_type)

# 6. Fix data type issues
# Convert boolean columns to proper boolean type
bool_columns = ['on_vz_hin_2017', 'in_coc_2018', 'publish', 'on_vz_hin_2022', 'in_epa_2021']
for col in bool_columns:
    df[col] = df[col].astype(bool)

# Ensure numeric columns are properly typed
df['age'] = pd.to_numeric(df['age'], errors='coerce')
df['supervisor_district'] = pd.to_numeric(df['supervisor_district'], errors='coerce')
df['collision_year'] = pd.to_numeric(df['collision_year'], errors='coerce')

# 7. Extract hour of day from collision_datetime for time analysis
df['collision_hour'] = df['collision_datetime'].apply(
    lambda x: x.hour if pd.notna(x) else np.nan
)

# 8. Create a time of day category
def categorize_time_of_day(hour):
    if pd.isna(hour):
        return 'Unknown'
    elif 5 <= hour < 12:
        return 'Morning (5am-12pm)'
    elif 12 <= hour < 17:
        return 'Afternoon (12pm-5pm)'
    elif 17 <= hour < 21:
        return 'Evening (5pm-9pm)'
    else:
        return 'Night (9pm-5am)'

df['time_of_day'] = df['collision_hour'].apply(categorize_time_of_day)

# Summarize the changes made during cleaning
changes = {
    'Date format fixes': sum(pd.notna(df['death_date']) & pd.isna(df_original['death_date'].apply(lambda x: pd.to_datetime(x, errors='coerce')))),
    'Time parsing fixes': sum(pd.notna(df['collision_time']) & pd.isna(df_original['collision_time'].apply(lambda x: pd.to_datetime(x, format='%H:%M:%S', errors='coerce')))),
    'Age categories created': df['age_category'].notna().sum(),
    'Collision categories created': df['collision_category'].notna().sum(),
    'Time of day categories created': df['time_of_day'].notna().sum()
}

# Handle missing values
# For numeric columns, fill with median
numeric_cols = df_clean.select_dtypes(include=['int64', 'float64']).columns
for col in numeric_cols:
    if df_clean[col].isnull().sum() > 0:
        df_clean[col] = df_clean[col].fillna(df_clean[col].median())

# For categorical columns, fill with mode
categorical_cols = df_clean.select_dtypes(include=['object']).columns
for col in categorical_cols:
    if df_clean[col].isnull().sum() > 0 and col not in ['collision_time', 'death_time']:
        df_clean[col] = df_clean[col].fillna(df_clean[col].mode()[0])

# Remove duplicates
df_clean = df_clean.drop_duplicates()

# Convert date/time columns to proper datetime format
date_cols = ['death_date', 'collision_date']
datetime_cols = ['death_datetime', 'collision_datetime', 'data_as_of', 'data_loaded_at']

for col in date_cols:
    df_clean[col] = pd.to_datetime(df_clean[col], errors='coerce')

for col in datetime_cols:
    df_clean[col] = pd.to_datetime(df_clean[col], errors='coerce')

# Extract year, month, day, hour from datetime columns for analysis
df_clean['collision_year_clean'] = df_clean['collision_year']
df_clean['collision_month'] = df_clean['collision_date'].dt.month
df_clean['collision_day'] = df_clean['collision_date'].dt.day
df_clean['collision_hour'] = pd.to_datetime(df_clean['collision_time'], format='%H:%M:%S', errors='coerce').dt.hour

# Standardize formats for categorical variables
df_clean['deceased'] = df_clean['deceased'].str.strip()
df_clean['collision_type'] = df_clean['collision_type'].str.strip()

print("Summary of Data Cleaning Changes:")
for change, count in changes.items():
    print(f"- {change}: {count} rows affected")

# Print basic statistics of the cleaned dataset
print("\nCleaned Dataset Statistics:")
print(f"Total records: {len(df)}")
print(f"Date range: {df['collision_date'].min()} to {df['collision_date'].max()}")
print(f"Age range: {df['age'].min()} to {df['age'].max()}, Mean: {df['age'].mean():.1f}")



