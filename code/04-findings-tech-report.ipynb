{
 "cells": [
  {
   "cell_type": "markdown",
   "id": "bf992769-d5f8-40a5-8cd5-69d7940c8bf3",
   "metadata": {},
   "source": [
    "# 04: Findings and Technical Report"
   ]
  },
  {
   "cell_type": "markdown",
   "id": "70be695b-86b5-43a8-ac78-acc3328a55cc",
   "metadata": {},
   "source": [
    "In this notebook, I shall share my technical findings, explain my goals, describe modeling choices, evaluate model performance, and discuss results.  \n",
    "\n",
    "Summarize your goals and metrics for success, variables of interest, and removal of any outliers or data imputation. Your process description should be concise and relevant to your goals. Summarize statistical analysis, including model selection, implementation, evaluation, and inference. Be convincing – justify all important decisions! Clearly label plots and visualizations. Include an Executive Summary."
   ]
  },
  {
   "cell_type": "markdown",
   "id": "e6864a99-fb50-4003-8ad0-b39185993d8c",
   "metadata": {},
   "source": [
    "## Findings"
   ]
  },
  {
   "cell_type": "markdown",
   "id": "12e078e9-1181-4626-8ea8-dcb448f3c585",
   "metadata": {},
   "source": [
    "I cleaned and analyzed public data on vehicle collisions in San Francisco, CA, "
   ]
  }
 ],
 "metadata": {
  "kernelspec": {
   "display_name": "Python 3 (ipykernel)",
   "language": "python",
   "name": "python3"
  },
  "language_info": {
   "codemirror_mode": {
    "name": "ipython",
    "version": 3
   },
   "file_extension": ".py",
   "mimetype": "text/x-python",
   "name": "python",
   "nbconvert_exporter": "python",
   "pygments_lexer": "ipython3",
   "version": "3.12.2"
  }
 },
 "nbformat": 4,
 "nbformat_minor": 5
}
