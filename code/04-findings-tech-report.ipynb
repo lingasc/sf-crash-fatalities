{
 "cells": [
  {
   "cell_type": "markdown",
   "id": "bf992769-d5f8-40a5-8cd5-69d7940c8bf3",
   "metadata": {},
   "source": [
    "# 04: Findings and Technical Report"
   ]
  },
  {
   "cell_type": "markdown",
   "id": "70be695b-86b5-43a8-ac78-acc3328a55cc",
   "metadata": {},
   "source": [
    "In this notebook, I will share my technical findings, explain my goals, describe modeling choices, evaluate model performance, and discuss results.  \n",
    "  \n",
    "---"
   ]
  },
  {
   "cell_type": "markdown",
   "id": "e6864a99-fb50-4003-8ad0-b39185993d8c",
   "metadata": {},
   "source": [
    "# Executive Summary"
   ]
  },
  {
   "cell_type": "markdown",
   "id": "12e078e9-1181-4626-8ea8-dcb448f3c585",
   "metadata": {},
   "source": [
    "## Findings Summarized  "
   ]
  },
  {
   "cell_type": "markdown",
   "id": "9b2f8de9-00d0-451e-901f-b18c0cc21a07",
   "metadata": {},
   "source": [
    "Our data revealed unexpected and useful findings about fatal traffic collisions in San Francisco from 2014-2015.  \n",
    "  \n",
    "- **Pedestrians, people inside vehicles, motorcycle passengers, and bicyclists** are the top 4 most at-risk types of victims in a fatal traffic collision in San Francisco from 2014-2025.\n",
    "- **Pedestrians** are by far the most common victim type of the top 4.\n",
    "- There is an **upward trend in pedestrian deaths by traffic collisions,** while vehicle, motorcycle, and bicycle collisions show no consistent upward or downward trend.\n",
    "- **One AM and 12 PM are the most dangerous traffic hours** with the highest number of traffic fatalities, while **4 AM has the least fatalities.**\n",
    "- **Morning is overall the most dangerous time of the day**, followed by evening, then afternoon from most to least number of fatal collisions.\n",
    "- **Male victims account for 2.4x the number of female victims in fatal traffic collisions.** This strong imbalance in sex suggests that this is a feature that may have strong predictive power.\n",
    "- There is a **significant correlation between collision type and time of day.** (p-value < 0.05)\n",
    "- There are **significant differences in age across collision categories.** (p-value = 0)\n",
    "\n",
    "We have more than enough findings from our analysis to engineer features that will be relevant to developing an ML model."
   ]
  },
  {
   "cell_type": "markdown",
   "id": "0fc4e109-4e66-4a17-80d2-9e007a68a68e",
   "metadata": {},
   "source": [
    "## ML Model to Predict High-Risk Areas for Traffic Fatalities"
   ]
  },
  {
   "cell_type": "markdown",
   "id": "c64c3522-73bd-473d-befd-0bcb40234ed3",
   "metadata": {},
   "source": [
    "With this data and features, I chose to build a **binary classification model** using a **Gradient Boosting Classifier** to predict high-risk areas for traffic fatalities. It classifies geographic locations and temporal factors as either \"high-risk\" or \"low-risk\" based on patterns in the fatality data.  \n",
    "\n",
    "Of all the models I could have built, this model is an approach to traffic fatality risk classification that balances predictive power with interpretability. The gradient boosting classifier with the selected features and preprocessing steps is well-suited to capturing the complex patterns in traffic fatality data. The evaluation metrics chosen appropriately reflect the dual priorities of avoiding false alarms while ensuring high-risk areas are identified.  \n",
    "\n",
    "## Model Metrics and Score  \n",
    "\n",
    "              precision    recall  f1-score   support\n",
    "\n",
    "           0       1.00      1.00      1.00        21\n",
    "           1       1.00      1.00      1.00        62\n",
    "\n",
    "    accuracy                           1.00        83\n",
    "   macro avg       1.00      1.00      1.00        83\n",
    "weighted avg       1.00      1.00      1.00        83\n",
    "\n",
    "ROC AUC Score: 1.0000  \n",
    "  \n",
    "---"
   ]
  },
  {
   "cell_type": "markdown",
   "id": "2c128dab-0e78-4c8e-8be4-d110c428213b",
   "metadata": {},
   "source": [
    "## Findings in Further Depth"
   ]
  },
  {
   "cell_type": "markdown",
   "id": "acaa1254-e943-4e8b-9f91-85e121526a07",
   "metadata": {},
   "source": [
    "### Collision Categories  \n",
    "  \n",
    "- Pedestrian fatalities are the most common (58%)\n",
    "- Vehicle fatalities (22%)\n",
    "- Motorcycle fatalities (13%)\n",
    "- Bicycle fatalities (7%)  \n",
    "\n",
    "### Temporal Patterns  \n",
    "  \n",
    "- Yearly Distribution: Fatal collisions range from 20-42 per year, with 2024 showing the highest count (42)\n",
    "- Monthly Distribution: March has the highest fatalities (37), while April has the lowest (16)\n",
    "- Day of Week: Saturday has the most fatalities (58), followed by Tuesday (52)\n",
    "- Time of Day: Peaks at 1 AM and 12 PM (21 each), with the fewest accidents in early morning hours (4 AM)\n",
    "\n",
    "### Demographic Patterns\n",
    "\n",
    "- Age distribution varies significantly by collision category\n",
    "- Pedestrian fatalities tend to involve older victims (mean age 58)\n",
    "- Motorcycle and vehicle fatalities tend to involve younger victims (mean ages 41 and 42)\n",
    "- Males account for 71% of fatalities\n",
    "\n",
    "### Geographic Distribution  \n",
    "\n",
    "- Fatalities are clustered in specific areas\n",
    "- Latitude range: 37.71-37.82\n",
    "- Longitude range: -122.51 to -122.37\n",
    "\n",
    "---"
   ]
  },
  {
   "cell_type": "markdown",
   "id": "5bbfe274-163c-4bc7-8944-b4ff427b2cff",
   "metadata": {},
   "source": [
    "## Model Purpose and Functionality  "
   ]
  },
  {
   "cell_type": "markdown",
   "id": "ff0c5812-ac07-4e37-9c37-d0e9a340cb84",
   "metadata": {},
   "source": [
    "This model is designed to:  \n",
    "  \n",
    "1. Identify and predict high-risk conditions for traffic fatalities\n",
    "2. Classify areas as high-risk based on specific criteria (pedestrian incidents and nighttime incidents)\n",
    "3. Provide insights into the factors that contribute most to fatal traffic incidents\n",
    "4. Support data-driven decision making for traffic safety interventions\n",
    "\n",
    "## Key Features and Techniques  \n",
    "### Data Preparation and Feature Engineering\n",
    "\n",
    "- Robust data handling: The script includes extensive error checking and fallback methods for handling missing data\n",
    "- Day of week extraction: Creating temporal features from date information\n",
    "- Target variable creation: Defining \"high-risk\" based on two key factors:\n",
    "- Pedestrian incidents (collision_category = 'Pedestrian')\n",
    "- Nighttime incidents (time_of_day = 'Night (9pm-5am)')\n",
    "- Missing value handling: Appropriate handling for categorical (filled with 'Unknown') and numerical features (filled with median values)\n",
    "  \n",
    "## Feature Selection  \n",
    "  \n",
    "The model uses a combination of:\n",
    "\n",
    "- Spatial features: latitude, longitude\n",
    "- Temporal features: collision_hour, collision_month, time_of_day, day_of_week\n",
    "- Categorical features: collision_category  \n",
    "  \n",
    "## Preprocessing Pipeline  \n",
    "  \n",
    "- StandardScaler for numerical features: Normalizes numerical data to improve model performance\n",
    "- OneHotEncoder for categorical features: Transforms categorical variables into a format suitable for ML algorithms\n",
    "- ColumnTransformer: Combines these preprocessing steps into a unified pipeline  \n",
    "  \n",
    "## Model Training and Evaluation\n",
    "  \n",
    "- Train-test split: 75/25 split with stratification to maintain class balance\n",
    "- Pipeline architecture: Ensures preprocessing and model training are consistently applied\n",
    "- Classification metrics: Uses classification report (precision, recall, F1-score) for model evaluation\n",
    "- ROC-AUC score: Evaluates the model's ability to discriminate between classes\n",
    "\n",
    "## Explainability  \n",
    "  \n",
    "- SHAP values: Used to interpret feature importance and understand which factors contribute most to high-risk classifications\n",
    "- Feature importance visualization: Supports through saving SHAP values for later visualization in a Streamlit app\n",
    "\n",
    "---"
   ]
  },
  {
   "cell_type": "markdown",
   "id": "d65712dd-0805-4f24-9e4d-6da39f78a89e",
   "metadata": {},
   "source": [
    "# Why This Model and Approach?\n",
    "## Strengths of Gradient Boosting for This Problem\n",
    "\n",
    "- Handles complex relationships: Gradient boosting can capture non-linear relationships between features and target variables, which is crucial for modeling complex traffic patterns.\n",
    "\n",
    "- Feature importance: Naturally provides insights into which features are most predictive of fatality risk.\n",
    "\n",
    "- Robust to outliers: Gradient boosting is less affected by outliers than many other algorithms, important for geospatial data that may contain anomalies.\n",
    "\n",
    "- Good performance with mixed data types: Works well with both categorical and numerical data after appropriate preprocessing.\n",
    "\n",
    "- Handles imbalanced data well: Can learn effectively even when one class (high-risk or low-risk) is more frequent in the dataset.\n",
    "\n",
    "## Why This Feature Set?\n",
    "\n",
    "The selected features combine important dimensions that influence traffic fatality risk:\n",
    "\n",
    "- Spatial components (latitude/longitude): Location is critical for understanding risk patterns across different areas of the city.\n",
    "\n",
    "- Temporal patterns (hour, month, day of week): Fatalities often follow patterns based on time of day, seasonality, and weekly rhythms (e.g., weekday vs. weekend).\n",
    "\n",
    "- Road user type (collision_category): Different road users (pedestrians, cyclists, vehicle occupants) face different risks.\n",
    "\n",
    "- Time of day classification: Explicitly including this derived feature helps the model understand the significant risk differences between daylight and nighttime conditions.\n",
    "\n",
    "---\n"
   ]
  },
  {
   "cell_type": "markdown",
   "id": "c652b316-2492-4f18-aebf-e94759fb3f9a",
   "metadata": {},
   "source": [
    "# Alternative Models Not Chosen\n",
    "## Logistic Regression\n",
    "  \n",
    "While simpler to interpret, logistic regression would likely miss complex non-linear relationships and interactions between features in traffic fatality data. The spatial and temporal factors often have complex interrelationships that gradient boosting can better capture.\n",
    "  \n",
    "## Neural Networks\n",
    "  \n",
    "Would require more data to perform well, add significant complexity, be more prone to overfitting with this dataset size, and provide less inherent interpretability (important for traffic safety analysis where understanding risk factors is crucial).\n",
    "  \n",
    "## Random Forest\n",
    "  \n",
    "While similar to gradient boosting, gradient boosting often provides better performance through sequential improvement of weak learners. For risk classification, the incremental learning approach of gradient boosting typically yields better predictive power.\n",
    "  \n",
    "## Support Vector Machines\n",
    "  \n",
    "Would struggle with the mixed feature types and might require more extensive feature engineering. Also less directly interpretable than tree-based methods.\n",
    "  \n",
    "## K-Nearest Neighbors\n",
    "  \n",
    "Would be heavily influenced by the geography alone and less able to capture temporal patterns effectively. Also doesn't scale well to larger datasets.  \n",
    "\n",
    "---"
   ]
  },
  {
   "cell_type": "markdown",
   "id": "1000670c-92ad-4c3a-9392-f8c113e2379f",
   "metadata": {},
   "source": [
    "# Evaluation Metrics Used\n",
    "  \n",
    "The model uses multiple evaluation approaches:\n",
    "## 1. Classification Report (Precision, Recall, F1-Score)\n",
    "\n",
    "- Precision: Measures how many predicted high-risk areas are actually high-risk.\n",
    "- Recall: Measures how many actual high-risk areas were correctly identified.\n",
    "- F1-Score: Harmonic mean of precision and recall, balancing both concerns.\n",
    "  \n",
    "These were chosen because in traffic safety, both false positives and false negatives have real consequences. A balanced approach is needed to:  \n",
    "  \n",
    "- Avoid unnecessarily alarming about safe areas (precision)\n",
    "- Ensure we don't miss areas that truly need intervention (recall)\n",
    "\n",
    "## 2. ROC-AUC Score  \n",
    "  \n",
    "This measures the model's ability to discriminate between high and low-risk cases across various threshold settings. I chose this because:  \n",
    "  \n",
    "- It's threshold-independent, allowing evaluation of the model's performance regardless of where the classification cutoff is set\n",
    "- It's particularly useful for imbalanced datasets where one class might be more prevalent\n",
    "- It gives an overall performance assessment that balances true positive rate against false positive rate\n",
    "  \n",
    "## 3. SHAP Values for Explainability\n",
    "  \n",
    "While not a performance metric per se, SHAP values provide crucial insights into how the model makes decisions. This is excellent because:  \n",
    "  \n",
    "- For traffic safety applications, knowing why an area is high-risk is as important as knowing that it's high-risk\n",
    "- It helps build trust in the model by making predictions interpretable\n",
    "- It can guide safety interventions by highlighting the most influential factors  \n",
    "\n",
    "---"
   ]
  }
 ],
 "metadata": {
  "kernelspec": {
   "display_name": "Python 3 (ipykernel)",
   "language": "python",
   "name": "python3"
  },
  "language_info": {
   "codemirror_mode": {
    "name": "ipython",
    "version": 3
   },
   "file_extension": ".py",
   "mimetype": "text/x-python",
   "name": "python",
   "nbconvert_exporter": "python",
   "pygments_lexer": "ipython3",
   "version": "3.12.2"
  }
 },
 "nbformat": 4,
 "nbformat_minor": 5
}
