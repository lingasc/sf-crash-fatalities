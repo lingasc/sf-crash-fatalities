{
 "cells": [
  {
   "cell_type": "markdown",
   "id": "fd66fd7c-ac80-4362-85b9-2f9a248bacc6",
   "metadata": {},
   "source": [
    "# 01 EDA: Crashes Resulting in Injuries"
   ]
  },
  {
   "cell_type": "code",
   "execution_count": null,
   "id": "38c5677b-7484-496d-a140-426434f1c941",
   "metadata": {},
   "outputs": [],
   "source": []
  }
 ],
 "metadata": {
  "kernelspec": {
   "display_name": "Python 3 (ipykernel)",
   "language": "python",
   "name": "python3"
  },
  "language_info": {
   "codemirror_mode": {
    "name": "ipython",
    "version": 3
   },
   "file_extension": ".py",
   "mimetype": "text/x-python",
   "name": "python",
   "nbconvert_exporter": "python",
   "pygments_lexer": "ipython3",
   "version": "3.12.2"
  }
 },
 "nbformat": 4,
 "nbformat_minor": 5
}
