{
 "cells": [
  {
   "cell_type": "markdown",
   "id": "edb7cc3b-62a6-4094-aabf-7f7cbaf2f26d",
   "metadata": {},
   "source": [
    "# Data Sources"
   ]
  },
  {
   "cell_type": "markdown",
   "id": "8b8c2ca0-c651-4c2d-976e-ad7f4a2c9292",
   "metadata": {},
   "source": [
    "[San Francisco Traffic Crashes Resulting in Fatality](https://data.sfgov.org/Public-Safety/Traffic-Crashes-Resulting-in-Fatality/dau3-4s8f/about_data)  \n",
    "\n",
    "[San Francisco Traffic Crashes Resulting in Injury](https://data.sfgov.org/Public-Safety/Traffic-Crashes-Resulting-in-Injury/ubvf-ztfx/about_data)  "
   ]
  },
  {
   "cell_type": "markdown",
   "id": "cc83aeec-1fbb-49b8-b8b1-ff60a277acd7",
   "metadata": {},
   "source": [
    "[gitignore Template Maker](https://www.toptal.com/developers/gitignore/api/jupyternotebooks,macos,virtualenv,windows)"
   ]
  },
  {
   "cell_type": "code",
   "execution_count": null,
   "id": "102f850b-9de3-4ef8-a17e-430afc927cef",
   "metadata": {},
   "outputs": [],
   "source": []
  }
 ],
 "metadata": {
  "kernelspec": {
   "display_name": "Python 3 (ipykernel)",
   "language": "python",
   "name": "python3"
  },
  "language_info": {
   "codemirror_mode": {
    "name": "ipython",
    "version": 3
   },
   "file_extension": ".py",
   "mimetype": "text/x-python",
   "name": "python",
   "nbconvert_exporter": "python",
   "pygments_lexer": "ipython3",
   "version": "3.12.2"
  }
 },
 "nbformat": 4,
 "nbformat_minor": 5
}
